{
 "cells": [
  {
   "cell_type": "markdown",
   "metadata": {},
   "source": [
    "https://console.twilio.com/us1/develop/sms/try-it-out/whatsapp-learn?frameUrl=%2Fconsole%2Fsms%2Fwhatsapp%2Flearn%3Fx-target-region%3Dus1&_gl=1*zlhlgr*_gcl_aw*R0NMLjE3MjU2NjAyNzguQ2owS0NRancwT3EyQmhDQ0FSSXNBQTVodWJXcDdwZlJaMWwxMDZWUUdiWFlBblB4dWsxNTNhSGxrSktCWDZYaXJDd1pjZEdYWWdCRDlvY2FBdXdYRUFMd193Y0I.*_gcl_au*MjI5NTk3MzkyLjE3MjU2NjAyNzg.*_ga*MjAwOTczNDg1OC4xNzI1NjYwMjc4*_ga_RRP8K4M4F3*MTcyNjI1MzQwNy44LjEuMTcyNjI1Njc4MC4wLjAuMA.."
   ]
  },
  {
   "cell_type": "markdown",
   "metadata": {},
   "source": [
    "Check the Python interpreter"
   ]
  },
  {
   "cell_type": "code",
   "execution_count": 1,
   "metadata": {},
   "outputs": [
    {
     "name": "stdout",
     "output_type": "stream",
     "text": [
      "Path to the current Python interpreter: /Users/juanignaciosolerno/Documents/GitHub/whatsapp-chatbot/venv/bin/python\n"
     ]
    }
   ],
   "source": [
    "import sys\n",
    "print(\"Path to the current Python interpreter:\", sys.executable)"
   ]
  },
  {
   "cell_type": "markdown",
   "metadata": {},
   "source": [
    "IMPORT DEPENDENCIES"
   ]
  },
  {
   "cell_type": "code",
   "execution_count": 2,
   "metadata": {},
   "outputs": [],
   "source": [
    "import requests"
   ]
  },
  {
   "cell_type": "markdown",
   "metadata": {},
   "source": [
    "#### TEST AN OPEN ENDPOINT"
   ]
  },
  {
   "cell_type": "code",
   "execution_count": 279,
   "metadata": {},
   "outputs": [
    {
     "name": "stdout",
     "output_type": "stream",
     "text": [
      "Response status code: 200\n",
      "Response text: <?xml version=\"1.0\" encoding=\"UTF-8\"?><Response><Message>¿Tienes unos minutos para responder algunas preguntas sobre tu experiencia con los servicios de la Muni?</Message></Response>\n"
     ]
    }
   ],
   "source": [
    "ngrok_url = 'https://69d3-181-4-165-56.ngrok-free.app/interview'\n",
    "\n",
    "data = {\n",
    "    'Body': 'Hola Mundo, acá desde la Web mediante ngrok',  # Mensaje de texto que envía el usuario\n",
    "    'From': '+541161966992',  # Número de teléfono simulado desde el cual se envía el SMS\n",
    "    'To': '+14158497269'  # Tu número de Twilio registrado\n",
    "}\n",
    "\n",
    "# Hacemos el request POST hacia tu webhook\n",
    "response = requests.post(ngrok_url, data=data)\n",
    "\n",
    "# Imprimimos la respuesta del servidor (Flask app)\n",
    "print(\"Response status code:\", response.status_code)\n",
    "print(\"Response text:\", response.text)"
   ]
  },
  {
   "cell_type": "code",
   "execution_count": 258,
   "metadata": {},
   "outputs": [
    {
     "name": "stdout",
     "output_type": "stream",
     "text": [
      "Response status code: 200\n",
      "Response text: <?xml version=\"1.0\" encoding=\"UTF-8\"?><Response><Message>Gracias nuevamente, su entrevista ya terminó</Message></Response>\n"
     ]
    }
   ],
   "source": [
    "local_url = \"http://127.0.0.1:5000/interview\"\n",
    "\n",
    "data = {\n",
    "    'Body': 'Hola Mundo',  # Mensaje de texto que envía el usuario\n",
    "    'From': '+541161966992',  # Número de teléfono simulado desde el cual se envía el SMS\n",
    "    'To': '+14158497269'  # Tu número de Twilio registrado\n",
    "}\n",
    "\n",
    "# Hacemos el request POST hacia tu webhook\n",
    "response = requests.post(local_url, data=data)\n",
    "\n",
    "# Imprimimos la respuesta del servidor (Flask app)\n",
    "print(\"Response status code:\", response.status_code)\n",
    "print(\"Response text:\", response.text)"
   ]
  },
  {
   "cell_type": "code",
   "execution_count": null,
   "metadata": {},
   "outputs": [],
   "source": []
  },
  {
   "cell_type": "code",
   "execution_count": null,
   "metadata": {},
   "outputs": [],
   "source": []
  },
  {
   "cell_type": "code",
   "execution_count": null,
   "metadata": {},
   "outputs": [],
   "source": []
  },
  {
   "cell_type": "markdown",
   "metadata": {},
   "source": [
    "#### TEST A CLOSE ENDPOINT"
   ]
  },
  {
   "cell_type": "code",
   "execution_count": 28,
   "metadata": {},
   "outputs": [
    {
     "data": {
      "text/plain": [
       "True"
      ]
     },
     "execution_count": 28,
     "metadata": {},
     "output_type": "execute_result"
    }
   ],
   "source": [
    "from dotenv import load_dotenv\n",
    "load_dotenv()"
   ]
  },
  {
   "cell_type": "code",
   "execution_count": 44,
   "metadata": {},
   "outputs": [],
   "source": [
    "import os\n",
    "auth_token = os.environ.get('TWILIO_AUTH_TOKEN')\n",
    "account_sid = os.environ.get('TWILIO_ACCOUNT_SID')"
   ]
  },
  {
   "cell_type": "code",
   "execution_count": 45,
   "metadata": {},
   "outputs": [
    {
     "data": {
      "text/plain": [
       "<twilio.request_validator.RequestValidator at 0x105e22310>"
      ]
     },
     "execution_count": 45,
     "metadata": {},
     "output_type": "execute_result"
    }
   ],
   "source": [
    "from twilio.request_validator import RequestValidator\n",
    "validator = RequestValidator(auth_token)\n",
    "validator"
   ]
  },
  {
   "cell_type": "code",
   "execution_count": 46,
   "metadata": {},
   "outputs": [
    {
     "data": {
      "text/plain": [
       "'Qnwre52OL2QhSpoC9yWslPk+kyo='"
      ]
     },
     "execution_count": 46,
     "metadata": {},
     "output_type": "execute_result"
    }
   ],
   "source": [
    "signature = validator.compute_signature(ngrok_url, data)\n",
    "signature"
   ]
  },
  {
   "cell_type": "code",
   "execution_count": 51,
   "metadata": {},
   "outputs": [],
   "source": [
    "ngrok_url = 'https://b07d-2800-2131-5400-10b0-8c46-e87a-e8f4-15.ngrok-free.app/message'"
   ]
  },
  {
   "cell_type": "code",
   "execution_count": 48,
   "metadata": {},
   "outputs": [],
   "source": [
    "headers = {\n",
    "    'X-TWILIO-SIGNATURE': signature\n",
    "}"
   ]
  },
  {
   "cell_type": "code",
   "execution_count": 55,
   "metadata": {},
   "outputs": [],
   "source": [
    "response = requests.post(ngrok_url, data=data)"
   ]
  },
  {
   "cell_type": "code",
   "execution_count": 56,
   "metadata": {},
   "outputs": [
    {
     "name": "stdout",
     "output_type": "stream",
     "text": [
      "Response status code: 200\n",
      "Response text: <?xml version=\"1.0\" encoding=\"UTF-8\"?><Response><Message>Your text to me was 10 characters long. Webhooks are neat :)</Message></Response>\n"
     ]
    }
   ],
   "source": [
    "# Imprimimos la respuesta de tu servidor Flask\n",
    "print(\"Response status code:\", response.status_code)\n",
    "print(\"Response text:\", response.text)"
   ]
  },
  {
   "cell_type": "markdown",
   "metadata": {},
   "source": [
    "#### SEND A MESSAGE"
   ]
  },
  {
   "cell_type": "code",
   "execution_count": 2,
   "metadata": {},
   "outputs": [],
   "source": [
    "from twilio.rest import Client"
   ]
  },
  {
   "cell_type": "code",
   "execution_count": 3,
   "metadata": {},
   "outputs": [],
   "source": [
    "client = Client(account_sid, auth_token)\n"
   ]
  },
  {
   "cell_type": "code",
   "execution_count": 8,
   "metadata": {},
   "outputs": [
    {
     "name": "stdout",
     "output_type": "stream",
     "text": [
      "SM922d53d319457b95d750db2c7fbed63d\n"
     ]
    }
   ],
   "source": [
    "message = client.messages.create(\n",
    "    from_ ='whatsapp:+14155238886',\n",
    "    body='Hola Juan, acá Flask',\n",
    "    to='whatsapp:+5491141603674'\n",
    ")\n",
    "print(message.sid)\n"
   ]
  },
  {
   "cell_type": "markdown",
   "metadata": {},
   "source": []
  },
  {
   "cell_type": "code",
   "execution_count": null,
   "metadata": {},
   "outputs": [],
   "source": []
  }
 ],
 "metadata": {
  "kernelspec": {
   "display_name": "Python (whatsapp-chatbot)",
   "language": "python",
   "name": "whatsapp-chatbot"
  },
  "language_info": {
   "codemirror_mode": {
    "name": "ipython",
    "version": 3
   },
   "file_extension": ".py",
   "mimetype": "text/x-python",
   "name": "python",
   "nbconvert_exporter": "python",
   "pygments_lexer": "ipython3",
   "version": "3.11.9"
  }
 },
 "nbformat": 4,
 "nbformat_minor": 2
}
