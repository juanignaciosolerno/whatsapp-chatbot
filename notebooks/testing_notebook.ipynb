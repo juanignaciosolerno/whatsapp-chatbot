{
 "cells": [
  {
   "cell_type": "markdown",
   "metadata": {},
   "source": [
    "Check the Python interpreter"
   ]
  },
  {
   "cell_type": "code",
   "execution_count": 3,
   "metadata": {},
   "outputs": [
    {
     "name": "stdout",
     "output_type": "stream",
     "text": [
      "Path to the current Python interpreter: /Users/juanignaciosolerno/Documents/GitHub/whatsapp-chatbot/venv/bin/python\n"
     ]
    }
   ],
   "source": [
    "import sys\n",
    "print(\"Path to the current Python interpreter:\", sys.executable)"
   ]
  },
  {
   "cell_type": "markdown",
   "metadata": {},
   "source": [
    "IMPORT DEPENDENCIES"
   ]
  },
  {
   "cell_type": "code",
   "execution_count": 2,
   "metadata": {},
   "outputs": [],
   "source": [
    "import requests"
   ]
  },
  {
   "cell_type": "code",
   "execution_count": 5,
   "metadata": {},
   "outputs": [
    {
     "name": "stdout",
     "output_type": "stream",
     "text": [
      "Response status code: 200\n",
      "Response JSON data: {'userId': 1, 'id': 1, 'title': 'delectus aut autem', 'completed': False}\n"
     ]
    }
   ],
   "source": [
    "# Hacemos un request GET a una API de prueba\n",
    "response = requests.get(\"https://jsonplaceholder.typicode.com/todos/1\")\n",
    "\n",
    "# Imprimimos el JSON de respuesta\n",
    "print(\"Response status code:\", response.status_code)\n",
    "print(\"Response JSON data:\", response.json())"
   ]
  },
  {
   "cell_type": "markdown",
   "metadata": {},
   "source": [
    "#### TEST AN OPEN ENDPOINT"
   ]
  },
  {
   "cell_type": "code",
   "execution_count": 24,
   "metadata": {},
   "outputs": [],
   "source": [
    "ngrok_url = 'https://b07d-2800-2131-5400-10b0-8c46-e87a-e8f4-15.ngrok-free.app/sms'"
   ]
  },
  {
   "cell_type": "code",
   "execution_count": 25,
   "metadata": {},
   "outputs": [],
   "source": [
    "data = {\n",
    "    'Body': 'Hola Mundo',  # Mensaje de texto que envía el usuario\n",
    "    'From': '+541161966992',  # Número de teléfono simulado desde el cual se envía el SMS\n",
    "    'To': '+14158497269'  # Tu número de Twilio registrado\n",
    "}"
   ]
  },
  {
   "cell_type": "code",
   "execution_count": 26,
   "metadata": {},
   "outputs": [],
   "source": [
    "# Hacemos el request POST hacia tu webhook\n",
    "response = requests.post(ngrok_url, data=data)"
   ]
  },
  {
   "cell_type": "code",
   "execution_count": 27,
   "metadata": {},
   "outputs": [
    {
     "name": "stdout",
     "output_type": "stream",
     "text": [
      "Response status code: 200\n",
      "Response text: <?xml version=\"1.0\" encoding=\"UTF-8\"?><Response><Message>The Robots are coming! Head for the hills!</Message></Response>\n"
     ]
    }
   ],
   "source": [
    "# Imprimimos la respuesta del servidor (tu Flask app)\n",
    "print(\"Response status code:\", response.status_code)\n",
    "print(\"Response text:\", response.text)"
   ]
  },
  {
   "cell_type": "markdown",
   "metadata": {},
   "source": [
    "#### TEST A CLOSE ENDPOINT"
   ]
  },
  {
   "cell_type": "code",
   "execution_count": 28,
   "metadata": {},
   "outputs": [
    {
     "data": {
      "text/plain": [
       "True"
      ]
     },
     "execution_count": 28,
     "metadata": {},
     "output_type": "execute_result"
    }
   ],
   "source": [
    "from dotenv import load_dotenv\n",
    "load_dotenv()"
   ]
  },
  {
   "cell_type": "code",
   "execution_count": 44,
   "metadata": {},
   "outputs": [],
   "source": [
    "import os\n",
    "auth_token = os.environ.get('TWILIO_AUTH_TOKEN')\n",
    "account_sid = os.environ.get('TWILIO_ACCOUNT_SID')"
   ]
  },
  {
   "cell_type": "code",
   "execution_count": 45,
   "metadata": {},
   "outputs": [
    {
     "data": {
      "text/plain": [
       "<twilio.request_validator.RequestValidator at 0x105e22310>"
      ]
     },
     "execution_count": 45,
     "metadata": {},
     "output_type": "execute_result"
    }
   ],
   "source": [
    "from twilio.request_validator import RequestValidator\n",
    "validator = RequestValidator(auth_token)\n",
    "validator"
   ]
  },
  {
   "cell_type": "code",
   "execution_count": 46,
   "metadata": {},
   "outputs": [
    {
     "data": {
      "text/plain": [
       "'Qnwre52OL2QhSpoC9yWslPk+kyo='"
      ]
     },
     "execution_count": 46,
     "metadata": {},
     "output_type": "execute_result"
    }
   ],
   "source": [
    "signature = validator.compute_signature(ngrok_url, data)\n",
    "signature"
   ]
  },
  {
   "cell_type": "code",
   "execution_count": 51,
   "metadata": {},
   "outputs": [],
   "source": [
    "ngrok_url = 'https://b07d-2800-2131-5400-10b0-8c46-e87a-e8f4-15.ngrok-free.app/message'"
   ]
  },
  {
   "cell_type": "code",
   "execution_count": 48,
   "metadata": {},
   "outputs": [],
   "source": [
    "headers = {\n",
    "    'X-TWILIO-SIGNATURE': signature\n",
    "}"
   ]
  },
  {
   "cell_type": "code",
   "execution_count": 55,
   "metadata": {},
   "outputs": [],
   "source": [
    "response = requests.post(ngrok_url, data=data)"
   ]
  },
  {
   "cell_type": "code",
   "execution_count": 56,
   "metadata": {},
   "outputs": [
    {
     "name": "stdout",
     "output_type": "stream",
     "text": [
      "Response status code: 200\n",
      "Response text: <?xml version=\"1.0\" encoding=\"UTF-8\"?><Response><Message>Your text to me was 10 characters long. Webhooks are neat :)</Message></Response>\n"
     ]
    }
   ],
   "source": [
    "# Imprimimos la respuesta de tu servidor Flask\n",
    "print(\"Response status code:\", response.status_code)\n",
    "print(\"Response text:\", response.text)"
   ]
  },
  {
   "cell_type": "markdown",
   "metadata": {},
   "source": [
    "#### SEND A MESSAGE"
   ]
  },
  {
   "cell_type": "code",
   "execution_count": 2,
   "metadata": {},
   "outputs": [],
   "source": [
    "from twilio.rest import Client"
   ]
  },
  {
   "cell_type": "code",
   "execution_count": 3,
   "metadata": {},
   "outputs": [],
   "source": [
    "client = Client(account_sid, auth_token)\n"
   ]
  },
  {
   "cell_type": "code",
   "execution_count": 8,
   "metadata": {},
   "outputs": [
    {
     "name": "stdout",
     "output_type": "stream",
     "text": [
      "SM922d53d319457b95d750db2c7fbed63d\n"
     ]
    }
   ],
   "source": [
    "message = client.messages.create(\n",
    "    from_ ='whatsapp:+14155238886',\n",
    "    body='Hola Juan, acá Flask',\n",
    "    to='whatsapp:+5491141603674'\n",
    ")\n",
    "print(message.sid)\n"
   ]
  },
  {
   "cell_type": "markdown",
   "metadata": {},
   "source": []
  },
  {
   "cell_type": "code",
   "execution_count": null,
   "metadata": {},
   "outputs": [],
   "source": []
  }
 ],
 "metadata": {
  "kernelspec": {
   "display_name": "Python (whatsapp-chatbot)",
   "language": "python",
   "name": "whatsapp-chatbot"
  },
  "language_info": {
   "codemirror_mode": {
    "name": "ipython",
    "version": 3
   },
   "file_extension": ".py",
   "mimetype": "text/x-python",
   "name": "python",
   "nbconvert_exporter": "python",
   "pygments_lexer": "ipython3",
   "version": "3.11.9"
  }
 },
 "nbformat": 4,
 "nbformat_minor": 2
}
